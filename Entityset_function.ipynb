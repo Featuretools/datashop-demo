{
 "cells": [
  {
   "cell_type": "code",
   "execution_count": 1,
   "metadata": {},
   "outputs": [
    {
     "data": {
      "text/plain": [
       "'0.1.17'"
      ]
     },
     "execution_count": 1,
     "metadata": {},
     "output_type": "execute_result"
    }
   ],
   "source": [
    "import numpy as np\n",
    "import pandas as pd\n",
    "import featuretools as ft\n",
    "ft.__version__"
   ]
  },
  {
   "cell_type": "markdown",
   "metadata": {},
   "source": [
    "# About\n",
    "This is a notebook which shows how we can create an EntitySet from a dataset with the learnlab structure. The content of this notebook, the function `learnlab_to_entityset`, is also in [utilities](utilities.py) so that it can be loaded as a package in the [demo](Datashop%20CMU%20-%20Geometry.ipynb) notebook."
   ]
  },
  {
   "cell_type": "code",
   "execution_count": 2,
   "metadata": {},
   "outputs": [
    {
     "data": {
      "text/plain": [
       "Index(['Row', 'Sample Name', 'Transaction Id', 'Anon Student Id', 'Session Id',\n",
       "       'Time', 'Time Zone', 'Duration (sec)', 'Student Response Type',\n",
       "       'Student Response Subtype', 'Tutor Response Type',\n",
       "       'Tutor Response Subtype', 'Level (Unit)', 'Level (Section)',\n",
       "       'Problem Name', 'Problem View', 'Problem Start Time', 'Step Name',\n",
       "       'Attempt At Step', 'Is Last Attempt', 'Outcome', 'Selection', 'Action',\n",
       "       'Input', 'Feedback Text', 'Feedback Classification', 'Help Level',\n",
       "       'Total Num Hints', 'Condition Name', 'Condition Type', 'KC (Default)',\n",
       "       'KC Category (Default)', 'KC (Single-KC)', 'KC Category (Single-KC)',\n",
       "       'KC (Unique-step)', 'KC Category (Unique-step)', 'School', 'Class'],\n",
       "      dtype='object')"
      ]
     },
     "execution_count": 2,
     "metadata": {},
     "output_type": "execute_result"
    }
   ],
   "source": [
    "data = pd.read_csv('data/data.txt', '\\t')\n",
    "data.columns"
   ]
  },
  {
   "cell_type": "code",
   "execution_count": 28,
   "metadata": {
    "collapsed": true
   },
   "outputs": [],
   "source": [
    "import featuretools.variable_types as vtypes\n",
    "\n",
    "def learnlab_to_entityset(data):\n",
    "    # Make an EntitySet called Dataset with the following structure\n",
    "    #\n",
    "    # schools       students     problems\n",
    "    #        \\        |         /\n",
    "    #   classes   sessions   problem steps\n",
    "    #          \\     |       /\n",
    "    #           transactions  -- attempts\n",
    "    #\n",
    "    data.index = data['Transaction Id']\n",
    "    data = data.drop(['Row'], axis=1)\n",
    "    data = data[data['Duration (sec)'] != '.']\n",
    "\n",
    "    kc_and_cf_cols = [x for x in data.columns if (x.startswith('KC ') or x.startswith('CF '))]\n",
    "    kc_and_cf_cols.append('Problem Name')\n",
    "    data['Outcome'] = data['Outcome'].map({'INCORRECT': 0, 'CORRECT': 1})\n",
    "    data['End Time'] = pd.to_datetime(data['Time']) + pd.to_timedelta(pd.to_numeric(data['Duration (sec)']), 's')\n",
    "\n",
    "\n",
    "    es = ft.EntitySet('Dataset')\n",
    "    es.entity_from_dataframe(entity_id='transactions', \n",
    "                             index='Transaction Id', \n",
    "                             dataframe=data,\n",
    "                             variable_types={'Outcome': vtypes.Boolean},\n",
    "                             time_index='Time',\n",
    "                             secondary_time_index={'End Time': ['Outcome', 'Is Last Attempt', 'Duration (sec)']})\n",
    "    \n",
    "    # Two entities associated to problems\n",
    "    es.normalize_entity(base_entity_id='transactions',\n",
    "                        new_entity_id='problem_steps',\n",
    "                        index='Step Name',\n",
    "                        additional_variables=kc_and_cf_cols,\n",
    "                        make_time_index=False)\n",
    "\n",
    "    es.normalize_entity(base_entity_id='problem_steps',\n",
    "                        new_entity_id='problems',\n",
    "                        index='Problem Name',\n",
    "                        make_time_index=False)\n",
    "    \n",
    "    \n",
    "    # Two entities associated to students\n",
    "    es.normalize_entity(base_entity_id='transactions',\n",
    "                        new_entity_id='sessions',\n",
    "                        index='Session Id',\n",
    "                        additional_variables=['Anon Student Id'],\n",
    "                        make_time_index=True)\n",
    "\n",
    "    es.normalize_entity(base_entity_id='sessions',\n",
    "                        new_entity_id='students',\n",
    "                        index='Anon Student Id',\n",
    "                        make_time_index=True)\n",
    "    \n",
    "    # Two entities associated to a school\n",
    "    es.normalize_entity(base_entity_id='transactions',\n",
    "                        new_entity_id='classes',\n",
    "                        index='Class',\n",
    "                        additional_variables=['School'],\n",
    "                        make_time_index=False)\n",
    "    \n",
    "    es.normalize_entity(base_entity_id='classes',\n",
    "                        new_entity_id='schools',\n",
    "                        index='School',\n",
    "                        make_time_index=False)\n",
    "\n",
    "    # An entity associated to attempts\n",
    "    es.normalize_entity(base_entity_id='transactions',\n",
    "                        new_entity_id='attempts',\n",
    "                        index='Attempt At Step',\n",
    "                        additional_variables=[],\n",
    "                        make_time_index=False)\n",
    "    return es"
   ]
  },
  {
   "cell_type": "code",
   "execution_count": 31,
   "metadata": {},
   "outputs": [
    {
     "data": {
      "text/plain": [
       "Entityset: Dataset\n",
       "  Entities:\n",
       "    transactions (shape = [19998, 29])\n",
       "    problem_steps (shape = [9665, 8])\n",
       "    problems (shape = [1861, 1])\n",
       "    sessions (shape = [204, 3])\n",
       "    students (shape = [54, 2])\n",
       "    ...And 3 more\n",
       "  Relationships:\n",
       "    transactions.Step Name -> problem_steps.Step Name\n",
       "    problem_steps.Problem Name -> problems.Problem Name\n",
       "    transactions.Session Id -> sessions.Session Id\n",
       "    sessions.Anon Student Id -> students.Anon Student Id\n",
       "    transactions.Class -> classes.Class\n",
       "    ...and 2 more"
      ]
     },
     "execution_count": 31,
     "metadata": {},
     "output_type": "execute_result"
    }
   ],
   "source": [
    "es = learnlab_to_entityset(data)\n",
    "es"
   ]
  }
 ],
 "metadata": {
  "kernelspec": {
   "display_name": "Python 3",
   "language": "python",
   "name": "python3"
  },
  "language_info": {
   "codemirror_mode": {
    "name": "ipython",
    "version": 3
   },
   "file_extension": ".py",
   "mimetype": "text/x-python",
   "name": "python",
   "nbconvert_exporter": "python",
   "pygments_lexer": "ipython3",
   "version": "3.6.2"
  }
 },
 "nbformat": 4,
 "nbformat_minor": 2
}
